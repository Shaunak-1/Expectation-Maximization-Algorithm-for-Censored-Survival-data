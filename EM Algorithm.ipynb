{
 "cells": [
  {
   "cell_type": "code",
   "execution_count": 2,
   "id": "477d1319",
   "metadata": {},
   "outputs": [
    {
     "name": "stdout",
     "output_type": "stream",
     "text": [
      "Number of values greater than 1.0: 590\n",
      "194.4816180436892\n",
      "True λ = 0.5\n",
      "Sample mean (uncensored) = 0.5202730928472962\n",
      "EM estimate (censored) = 0.5226394610983518\n"
     ]
    }
   ],
   "source": [
    "import numpy as np\n",
    "\n",
    "def gen_expo(lambda_val, size=100, seed=None):\n",
    "    if seed is not None:\n",
    "        np.random.seed(seed)  \n",
    "    return np.random.exponential(scale=1/lambda_val, size=size)\n",
    "\n",
    "n=1000\n",
    "samples = gen_expo(0.5,n,2)\n",
    "\n",
    "def count_greater(data, threshold):\n",
    "    return sum(1 for x in data if x > threshold)\n",
    "\n",
    "count = count_greater(samples, 1.0)\n",
    "print(f\"Number of values greater than 1.0: {count}\")\n",
    "\n",
    "def sum_lessequal(data, threshold):\n",
    "    return sum(x for x in data if x <= threshold)\n",
    "\n",
    "total=sum_lessequal(samples,1.0)\n",
    "print(total)\n",
    "\n",
    "epsilon = 1e-6\n",
    "prev_estimate = 0.0\n",
    "current_estimate = 1.0  \n",
    "\n",
    "while abs(current_estimate - prev_estimate) > epsilon:\n",
    "    prev_estimate = current_estimate\n",
    "    \n",
    "    denominator = total + (count) * (1.0 + (1 / current_estimate))\n",
    "    current_estimate = n / denominator\n",
    "\n",
    "\n",
    "print(f\"True λ = 0.5\")\n",
    "print(f\"Sample mean (uncensored) = {1 / np.mean(samples)}\")\n",
    "print(f\"EM estimate (censored) = {current_estimate}\")\n",
    "\n"
   ]
  },
  {
   "cell_type": "code",
   "execution_count": null,
   "id": "ca10b599",
   "metadata": {},
   "outputs": [],
   "source": []
  }
 ],
 "metadata": {
  "kernelspec": {
   "display_name": "Python 3 (ipykernel)",
   "language": "python",
   "name": "python3"
  },
  "language_info": {
   "codemirror_mode": {
    "name": "ipython",
    "version": 3
   },
   "file_extension": ".py",
   "mimetype": "text/x-python",
   "name": "python",
   "nbconvert_exporter": "python",
   "pygments_lexer": "ipython3",
   "version": "3.11.5"
  }
 },
 "nbformat": 4,
 "nbformat_minor": 5
}
